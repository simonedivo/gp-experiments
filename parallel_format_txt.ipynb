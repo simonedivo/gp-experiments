{
 "cells": [
  {
   "cell_type": "code",
   "execution_count": null,
   "metadata": {},
   "outputs": [],
   "source": [
    "file = open(\"random_seeds.txt\", \"r\")\n",
    "random_seeds = file.read()\n",
    "file.close()\n",
    "\n",
    "random_seeds = random_seeds.replace(\"\\n\", \"\").replace(\" \", \"\").split(\",\")\n",
    "#random_seeds = [int(seed) for seed in random_seeds]\n",
    "\n",
    "datasets_folder = './datasets/'\n",
    "datasets = ['1191_BNG_pbc.tsv', '1196_BNG_pharynx.tsv', '1595_poker.tsv']\n",
    "\n",
    "traning_set_dimension_list = [100, 1000, 10000, 100000, 250000, 500000]\n",
    "popsize_generations_list = [[10,10], [10,100], [100,10], [100,100], [100,1000], [1000,100], [1000,1000]]\n",
    "\n",
    "input_args = \"\"\n",
    "\n",
    "for seed in random_seeds:\n",
    "    for dataset in datasets:\n",
    "        for training_set_dimension in traning_set_dimension_list:\n",
    "            for popsize_generations in popsize_generations_list:\n",
    "                input_args += f\"{seed},{dataset},{training_set_dimension},{popsize_generations[0]},{popsize_generations[1]}\\n\"\n",
    "\n",
    "print(input_args)\n",
    "\n",
    "with open(\"input_args.txt\", \"w\") as file:\n",
    "    file.write(input_args)\n",
    "    file.close()\n",
    "              \n"
   ]
  },
  {
   "cell_type": "code",
   "execution_count": 10,
   "metadata": {},
   "outputs": [
    {
     "name": "stdout",
     "output_type": "stream",
     "text": [
      "['./GPGomea/results/results_of_1191_BNG_pbc_seed_69_training_set_dimension100_popsize_10_generations_10.csv', './GPGomea/results/results_of_1191_BNG_pbc_seed_69_training_set_dimension500000_popsize_10_generations_10.csv']\n"
     ]
    },
    {
     "data": {
      "text/html": [
       "<div>\n",
       "<style scoped>\n",
       "    .dataframe tbody tr th:only-of-type {\n",
       "        vertical-align: middle;\n",
       "    }\n",
       "\n",
       "    .dataframe tbody tr th {\n",
       "        vertical-align: top;\n",
       "    }\n",
       "\n",
       "    .dataframe thead th {\n",
       "        text-align: right;\n",
       "    }\n",
       "</style>\n",
       "<table border=\"1\" class=\"dataframe\">\n",
       "  <thead>\n",
       "    <tr style=\"text-align: right;\">\n",
       "      <th></th>\n",
       "      <th>training_set_dimension</th>\n",
       "      <th>popsize</th>\n",
       "      <th>generations</th>\n",
       "      <th>test_rmse</th>\n",
       "      <th>train_rmse</th>\n",
       "      <th>time_taken</th>\n",
       "      <th>model</th>\n",
       "      <th>final_population</th>\n",
       "      <th>n_nodes</th>\n",
       "      <th>evaluations</th>\n",
       "    </tr>\n",
       "  </thead>\n",
       "  <tbody>\n",
       "    <tr>\n",
       "      <th>0</th>\n",
       "      <td>100</td>\n",
       "      <td>10</td>\n",
       "      <td>10</td>\n",
       "      <td>1047.403484</td>\n",
       "      <td>967.275528</td>\n",
       "      <td>0 days 00:00:00.002649</td>\n",
       "      <td>2014.866742+95.246017*(((((x17+x8)-x8)+(((x17+...</td>\n",
       "      <td>[(array([2268.05353096, 1986.13869894, 2671.20...</td>\n",
       "      <td>19</td>\n",
       "      <td>111</td>\n",
       "    </tr>\n",
       "    <tr>\n",
       "      <th>1</th>\n",
       "      <td>500000</td>\n",
       "      <td>10</td>\n",
       "      <td>10</td>\n",
       "      <td>1037.289500</td>\n",
       "      <td>1038.353051</td>\n",
       "      <td>0 days 00:00:04.144634</td>\n",
       "      <td>2984.570750+78.226906*(((x5-x16)-x8))</td>\n",
       "      <td>[(array([2109.57583016, 2026.88293712, 2079.99...</td>\n",
       "      <td>5</td>\n",
       "      <td>111</td>\n",
       "    </tr>\n",
       "  </tbody>\n",
       "</table>\n",
       "</div>"
      ],
      "text/plain": [
       "   training_set_dimension  popsize  generations    test_rmse   train_rmse  \\\n",
       "0                     100       10           10  1047.403484   967.275528   \n",
       "1                  500000       10           10  1037.289500  1038.353051   \n",
       "\n",
       "               time_taken                                              model  \\\n",
       "0  0 days 00:00:00.002649  2014.866742+95.246017*(((((x17+x8)-x8)+(((x17+...   \n",
       "1  0 days 00:00:04.144634              2984.570750+78.226906*(((x5-x16)-x8))   \n",
       "\n",
       "                                    final_population  n_nodes  evaluations  \n",
       "0  [(array([2268.05353096, 1986.13869894, 2671.20...       19          111  \n",
       "1  [(array([2109.57583016, 2026.88293712, 2079.99...        5          111  "
      ]
     },
     "execution_count": 10,
     "metadata": {},
     "output_type": "execute_result"
    }
   ],
   "source": [
    "import os\n",
    "import pandas as pd\n",
    "import glob\n",
    "\n",
    "path = './GPGomea/results/'\n",
    "pbc_files = glob.glob(os.path.join(path, \"*pbc*.csv\"))\n",
    "print(pbc_files)\n",
    "\n",
    "lst = []\n",
    "\n",
    "for file in pbc_files:\n",
    "    df = pd.read_csv(file)\n",
    "    lst.append(df)\n",
    "\n",
    "frame = pd.concat(lst, axis=0, ignore_index=True)\n",
    "frame\n"
   ]
  }
 ],
 "metadata": {
  "kernelspec": {
   "display_name": "usr",
   "language": "python",
   "name": "python3"
  },
  "language_info": {
   "codemirror_mode": {
    "name": "ipython",
    "version": 3
   },
   "file_extension": ".py",
   "mimetype": "text/x-python",
   "name": "python",
   "nbconvert_exporter": "python",
   "pygments_lexer": "ipython3",
   "version": "3.8.19"
  }
 },
 "nbformat": 4,
 "nbformat_minor": 2
}
